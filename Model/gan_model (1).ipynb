{
  "cells": [
    {
      "cell_type": "code",
      "execution_count": 3,
      "metadata": {
        "colab": {
          "base_uri": "https://localhost:8080/",
          "height": 206
        },
        "id": "J7nPXog8KHl6",
        "outputId": "3943adc8-0713-4e3a-feff-d6aadb962997"
      },
      "outputs": [
        {
          "data": {
            "text/html": [
              "<div>\n",
              "<style scoped>\n",
              "    .dataframe tbody tr th:only-of-type {\n",
              "        vertical-align: middle;\n",
              "    }\n",
              "\n",
              "    .dataframe tbody tr th {\n",
              "        vertical-align: top;\n",
              "    }\n",
              "\n",
              "    .dataframe thead th {\n",
              "        text-align: right;\n",
              "    }\n",
              "</style>\n",
              "<table border=\"1\" class=\"dataframe\">\n",
              "  <thead>\n",
              "    <tr style=\"text-align: right;\">\n",
              "      <th></th>\n",
              "      <th>zinc</th>\n",
              "      <th>boron</th>\n",
              "      <th>phosphorus</th>\n",
              "      <th>potassium</th>\n",
              "      <th>sulphur</th>\n",
              "      <th>Nitrogen</th>\n",
              "      <th>Temperature</th>\n",
              "      <th>yield_label</th>\n",
              "    </tr>\n",
              "  </thead>\n",
              "  <tbody>\n",
              "    <tr>\n",
              "      <th>0</th>\n",
              "      <td>-4.984012</td>\n",
              "      <td>-6.392182</td>\n",
              "      <td>56.250959</td>\n",
              "      <td>151.243972</td>\n",
              "      <td>18.114128</td>\n",
              "      <td>43.276447</td>\n",
              "      <td>18.267161</td>\n",
              "      <td>poor</td>\n",
              "    </tr>\n",
              "    <tr>\n",
              "      <th>1</th>\n",
              "      <td>-4.980979</td>\n",
              "      <td>9.068551</td>\n",
              "      <td>80.365096</td>\n",
              "      <td>131.296510</td>\n",
              "      <td>18.219619</td>\n",
              "      <td>72.199865</td>\n",
              "      <td>43.305149</td>\n",
              "      <td>poor</td>\n",
              "    </tr>\n",
              "    <tr>\n",
              "      <th>2</th>\n",
              "      <td>-4.974066</td>\n",
              "      <td>-5.162278</td>\n",
              "      <td>80.855254</td>\n",
              "      <td>132.834931</td>\n",
              "      <td>18.152781</td>\n",
              "      <td>39.492637</td>\n",
              "      <td>51.130021</td>\n",
              "      <td>poor</td>\n",
              "    </tr>\n",
              "    <tr>\n",
              "      <th>3</th>\n",
              "      <td>-4.967354</td>\n",
              "      <td>-4.333978</td>\n",
              "      <td>81.546237</td>\n",
              "      <td>131.381773</td>\n",
              "      <td>15.127985</td>\n",
              "      <td>37.717202</td>\n",
              "      <td>53.667639</td>\n",
              "      <td>poor</td>\n",
              "    </tr>\n",
              "    <tr>\n",
              "      <th>4</th>\n",
              "      <td>-4.966512</td>\n",
              "      <td>-3.508563</td>\n",
              "      <td>72.839644</td>\n",
              "      <td>127.914555</td>\n",
              "      <td>11.408858</td>\n",
              "      <td>115.767250</td>\n",
              "      <td>41.293378</td>\n",
              "      <td>poor</td>\n",
              "    </tr>\n",
              "  </tbody>\n",
              "</table>\n",
              "</div>"
            ],
            "text/plain": [
              "       zinc     boron  phosphorus   potassium    sulphur    Nitrogen  \\\n",
              "0 -4.984012 -6.392182   56.250959  151.243972  18.114128   43.276447   \n",
              "1 -4.980979  9.068551   80.365096  131.296510  18.219619   72.199865   \n",
              "2 -4.974066 -5.162278   80.855254  132.834931  18.152781   39.492637   \n",
              "3 -4.967354 -4.333978   81.546237  131.381773  15.127985   37.717202   \n",
              "4 -4.966512 -3.508563   72.839644  127.914555  11.408858  115.767250   \n",
              "\n",
              "   Temperature yield_label  \n",
              "0    18.267161        poor  \n",
              "1    43.305149        poor  \n",
              "2    51.130021        poor  \n",
              "3    53.667639        poor  \n",
              "4    41.293378        poor  "
            ]
          },
          "execution_count": 3,
          "metadata": {},
          "output_type": "execute_result"
        }
      ],
      "source": [
        "import pandas as pd\n",
        "df =  pd.read_csv('D:\\Crop-Recommendation\\Data\\gan_data.csv')\n",
        "df.head()"
      ]
    },
    {
      "cell_type": "code",
      "execution_count": 4,
      "metadata": {
        "colab": {
          "base_uri": "https://localhost:8080/"
        },
        "id": "FcgkyE89Pix2",
        "outputId": "b69783ee-cb7d-4ba5-c335-ce7d3a399004"
      },
      "outputs": [
        {
          "data": {
            "text/plain": [
              "0    poor\n",
              "1    poor\n",
              "2    poor\n",
              "3    poor\n",
              "4    poor\n",
              "Name: yield_label, dtype: object"
            ]
          },
          "execution_count": 4,
          "metadata": {},
          "output_type": "execute_result"
        }
      ],
      "source": [
        "df['yield_label'].head()"
      ]
    },
    {
      "cell_type": "code",
      "execution_count": 5,
      "metadata": {
        "id": "qsOMNWvPLKPD"
      },
      "outputs": [],
      "source": [
        "from sklearn.preprocessing import StandardScaler\n",
        "sc = StandardScaler()\n",
        "x = df.drop('yield_label',axis=1)\n",
        "y=df['yield_label']"
      ]
    },
    {
      "cell_type": "code",
      "execution_count": 6,
      "metadata": {
        "colab": {
          "base_uri": "https://localhost:8080/",
          "height": 206
        },
        "id": "EmfAlxRQLcdo",
        "outputId": "e8f2b469-6778-4840-ee7f-0bb11a8775cd"
      },
      "outputs": [
        {
          "data": {
            "text/html": [
              "<div>\n",
              "<style scoped>\n",
              "    .dataframe tbody tr th:only-of-type {\n",
              "        vertical-align: middle;\n",
              "    }\n",
              "\n",
              "    .dataframe tbody tr th {\n",
              "        vertical-align: top;\n",
              "    }\n",
              "\n",
              "    .dataframe thead th {\n",
              "        text-align: right;\n",
              "    }\n",
              "</style>\n",
              "<table border=\"1\" class=\"dataframe\">\n",
              "  <thead>\n",
              "    <tr style=\"text-align: right;\">\n",
              "      <th></th>\n",
              "      <th>zinc</th>\n",
              "      <th>boron</th>\n",
              "      <th>phosphorus</th>\n",
              "      <th>potassium</th>\n",
              "      <th>sulphur</th>\n",
              "      <th>Nitrogen</th>\n",
              "      <th>Temperature</th>\n",
              "    </tr>\n",
              "  </thead>\n",
              "  <tbody>\n",
              "    <tr>\n",
              "      <th>0</th>\n",
              "      <td>-2.239192</td>\n",
              "      <td>-2.237336</td>\n",
              "      <td>-0.371906</td>\n",
              "      <td>1.878505</td>\n",
              "      <td>1.259657</td>\n",
              "      <td>-1.875958</td>\n",
              "      <td>-2.196974</td>\n",
              "    </tr>\n",
              "    <tr>\n",
              "      <th>1</th>\n",
              "      <td>-2.238741</td>\n",
              "      <td>2.058906</td>\n",
              "      <td>2.366858</td>\n",
              "      <td>-0.740653</td>\n",
              "      <td>1.288075</td>\n",
              "      <td>-0.482060</td>\n",
              "      <td>1.210144</td>\n",
              "    </tr>\n",
              "    <tr>\n",
              "      <th>2</th>\n",
              "      <td>-2.237713</td>\n",
              "      <td>-1.895569</td>\n",
              "      <td>2.422528</td>\n",
              "      <td>-0.538654</td>\n",
              "      <td>1.270070</td>\n",
              "      <td>-2.058310</td>\n",
              "      <td>2.274936</td>\n",
              "    </tr>\n",
              "    <tr>\n",
              "      <th>3</th>\n",
              "      <td>-2.236716</td>\n",
              "      <td>-1.665400</td>\n",
              "      <td>2.501006</td>\n",
              "      <td>-0.729458</td>\n",
              "      <td>0.455251</td>\n",
              "      <td>-2.143873</td>\n",
              "      <td>2.620250</td>\n",
              "    </tr>\n",
              "    <tr>\n",
              "      <th>4</th>\n",
              "      <td>-2.236591</td>\n",
              "      <td>-1.436033</td>\n",
              "      <td>1.512155</td>\n",
              "      <td>-1.184713</td>\n",
              "      <td>-0.546605</td>\n",
              "      <td>1.617569</td>\n",
              "      <td>0.936386</td>\n",
              "    </tr>\n",
              "  </tbody>\n",
              "</table>\n",
              "</div>"
            ],
            "text/plain": [
              "       zinc     boron  phosphorus  potassium   sulphur  Nitrogen  Temperature\n",
              "0 -2.239192 -2.237336   -0.371906   1.878505  1.259657 -1.875958    -2.196974\n",
              "1 -2.238741  2.058906    2.366858  -0.740653  1.288075 -0.482060     1.210144\n",
              "2 -2.237713 -1.895569    2.422528  -0.538654  1.270070 -2.058310     2.274936\n",
              "3 -2.236716 -1.665400    2.501006  -0.729458  0.455251 -2.143873     2.620250\n",
              "4 -2.236591 -1.436033    1.512155  -1.184713 -0.546605  1.617569     0.936386"
            ]
          },
          "execution_count": 6,
          "metadata": {},
          "output_type": "execute_result"
        }
      ],
      "source": [
        "columns = x.columns\n",
        "scaled_data = sc.fit_transform(x)\n",
        "dfsc = pd.DataFrame(scaled_data,columns=columns)\n",
        "dfsc.head()"
      ]
    },
    {
      "cell_type": "code",
      "execution_count": 7,
      "metadata": {
        "id": "5olpB7fuL0l8"
      },
      "outputs": [],
      "source": [
        "from sklearn.model_selection import train_test_split\n",
        "x_train,x_test,y_train,y_test = train_test_split(x,y,test_size=0.2)"
      ]
    },
    {
      "cell_type": "code",
      "execution_count": 8,
      "metadata": {
        "id": "sxqpAzB2MGVu"
      },
      "outputs": [],
      "source": [
        "from sklearn.neighbors import KNeighborsClassifier\n",
        "knn = KNeighborsClassifier()\n",
        "knn.fit(x_train,y_train)\n",
        "prediction = knn.predict(x_test)"
      ]
    },
    {
      "cell_type": "code",
      "execution_count": 9,
      "metadata": {
        "colab": {
          "base_uri": "https://localhost:8080/"
        },
        "id": "-XolVJZiMyKl",
        "outputId": "e6e1942f-648f-48c8-ed43-8ae43e6d2ebd"
      },
      "outputs": [
        {
          "data": {
            "text/plain": [
              "0.7058333333333333"
            ]
          },
          "execution_count": 9,
          "metadata": {},
          "output_type": "execute_result"
        }
      ],
      "source": [
        "from sklearn.metrics import accuracy_score\n",
        "accuracy_score(prediction,y_test)"
      ]
    },
    {
      "cell_type": "code",
      "execution_count": 10,
      "metadata": {
        "colab": {
          "base_uri": "https://localhost:8080/"
        },
        "id": "MdQ9z4CGNRt-",
        "outputId": "5e32f3aa-a882-426d-87df-37f1e7141f98"
      },
      "outputs": [
        {
          "name": "stdout",
          "output_type": "stream",
          "text": [
            "Accuracy: 0.7958333333333333\n"
          ]
        }
      ],
      "source": [
        "from sklearn.neural_network import MLPClassifier\n",
        "mlp = MLPClassifier(hidden_layer_sizes=(100, 50, 25), max_iter=300, solver='adam', random_state=42)\n",
        "mlp.fit(x_train, y_train)\n",
        "\n",
        "# Make predictions\n",
        "y_pred = mlp.predict(x_test)\n",
        "\n",
        "# Calculate the accuracy\n",
        "accuracy = accuracy_score(y_test, y_pred)\n",
        "print(f'Accuracy: {accuracy}')\n"
      ]
    },
    {
      "cell_type": "code",
      "execution_count": 11,
      "metadata": {
        "colab": {
          "base_uri": "https://localhost:8080/"
        },
        "id": "leDzH50bPSJd",
        "outputId": "f69dd714-e05e-4a5c-9061-938e09a4e908"
      },
      "outputs": [
        {
          "name": "stdout",
          "output_type": "stream",
          "text": [
            "Encoded y_train: [0 1 1 ... 0 1 0]\n",
            "Encoded y_test: [0 1 1 ... 0 1 0]\n"
          ]
        }
      ],
      "source": [
        "import numpy as np\n",
        "label_mapping = {'good': 1, 'poor': 0}\n",
        "y_train_encoded = np.array([label_mapping[label] for label in y_train])\n",
        "y_test_encoded = np.array([label_mapping[label] for label in y_test])\n",
        "\n",
        "print(\"Encoded y_train:\", y_train_encoded)\n",
        "print(\"Encoded y_test:\", y_test_encoded)"
      ]
    },
    {
      "cell_type": "code",
      "execution_count": 12,
      "metadata": {
        "colab": {
          "base_uri": "https://localhost:8080/"
        },
        "id": "vTj93ksbOKZH",
        "outputId": "788c05cc-ae7d-40d5-9f09-24038fb9e8f1"
      },
      "outputs": [
        {
          "name": "stderr",
          "output_type": "stream",
          "text": [
            "c:\\Users\\DANISH LAPTOP\\AppData\\Local\\Programs\\Python\\Python311\\Lib\\site-packages\\keras\\src\\layers\\core\\dense.py:86: UserWarning: Do not pass an `input_shape`/`input_dim` argument to a layer. When using Sequential models, prefer using an `Input(shape)` object as the first layer in the model instead.\n",
            "  super().__init__(activity_regularizer=activity_regularizer, **kwargs)\n"
          ]
        },
        {
          "name": "stdout",
          "output_type": "stream",
          "text": [
            "Epoch 1/30\n",
            "\u001b[1m120/120\u001b[0m \u001b[32m━━━━━━━━━━━━━━━━━━━━\u001b[0m\u001b[37m\u001b[0m \u001b[1m2s\u001b[0m 4ms/step - accuracy: 0.5597 - loss: 0.8471 - val_accuracy: 0.6708 - val_loss: 0.5965\n",
            "Epoch 2/30\n",
            "\u001b[1m120/120\u001b[0m \u001b[32m━━━━━━━━━━━━━━━━━━━━\u001b[0m\u001b[37m\u001b[0m \u001b[1m0s\u001b[0m 2ms/step - accuracy: 0.6608 - loss: 0.5976 - val_accuracy: 0.7115 - val_loss: 0.5629\n",
            "Epoch 3/30\n",
            "\u001b[1m120/120\u001b[0m \u001b[32m━━━━━━━━━━━━━━━━━━━━\u001b[0m\u001b[37m\u001b[0m \u001b[1m0s\u001b[0m 2ms/step - accuracy: 0.6984 - loss: 0.5707 - val_accuracy: 0.7531 - val_loss: 0.4813\n",
            "Epoch 4/30\n",
            "\u001b[1m120/120\u001b[0m \u001b[32m━━━━━━━━━━━━━━━━━━━━\u001b[0m\u001b[37m\u001b[0m \u001b[1m0s\u001b[0m 2ms/step - accuracy: 0.7289 - loss: 0.5175 - val_accuracy: 0.7688 - val_loss: 0.4665\n",
            "Epoch 5/30\n",
            "\u001b[1m120/120\u001b[0m \u001b[32m━━━━━━━━━━━━━━━━━━━━\u001b[0m\u001b[37m\u001b[0m \u001b[1m0s\u001b[0m 2ms/step - accuracy: 0.7445 - loss: 0.4969 - val_accuracy: 0.7646 - val_loss: 0.4676\n",
            "Epoch 6/30\n",
            "\u001b[1m120/120\u001b[0m \u001b[32m━━━━━━━━━━━━━━━━━━━━\u001b[0m\u001b[37m\u001b[0m \u001b[1m0s\u001b[0m 2ms/step - accuracy: 0.7508 - loss: 0.4855 - val_accuracy: 0.6865 - val_loss: 0.5882\n",
            "Epoch 7/30\n",
            "\u001b[1m120/120\u001b[0m \u001b[32m━━━━━━━━━━━━━━━━━━━━\u001b[0m\u001b[37m\u001b[0m \u001b[1m0s\u001b[0m 2ms/step - accuracy: 0.7437 - loss: 0.4866 - val_accuracy: 0.7667 - val_loss: 0.4435\n",
            "Epoch 8/30\n",
            "\u001b[1m120/120\u001b[0m \u001b[32m━━━━━━━━━━━━━━━━━━━━\u001b[0m\u001b[37m\u001b[0m \u001b[1m0s\u001b[0m 2ms/step - accuracy: 0.7541 - loss: 0.4796 - val_accuracy: 0.7906 - val_loss: 0.4452\n",
            "Epoch 9/30\n",
            "\u001b[1m120/120\u001b[0m \u001b[32m━━━━━━━━━━━━━━━━━━━━\u001b[0m\u001b[37m\u001b[0m \u001b[1m1s\u001b[0m 4ms/step - accuracy: 0.7564 - loss: 0.4672 - val_accuracy: 0.7625 - val_loss: 0.4446\n",
            "Epoch 10/30\n",
            "\u001b[1m120/120\u001b[0m \u001b[32m━━━━━━━━━━━━━━━━━━━━\u001b[0m\u001b[37m\u001b[0m \u001b[1m1s\u001b[0m 4ms/step - accuracy: 0.7295 - loss: 0.5284 - val_accuracy: 0.7646 - val_loss: 0.4711\n",
            "Epoch 11/30\n",
            "\u001b[1m120/120\u001b[0m \u001b[32m━━━━━━━━━━━━━━━━━━━━\u001b[0m\u001b[37m\u001b[0m \u001b[1m1s\u001b[0m 4ms/step - accuracy: 0.7629 - loss: 0.4617 - val_accuracy: 0.7771 - val_loss: 0.4442\n",
            "Epoch 12/30\n",
            "\u001b[1m120/120\u001b[0m \u001b[32m━━━━━━━━━━━━━━━━━━━━\u001b[0m\u001b[37m\u001b[0m \u001b[1m1s\u001b[0m 4ms/step - accuracy: 0.7490 - loss: 0.4654 - val_accuracy: 0.7635 - val_loss: 0.4735\n",
            "Epoch 13/30\n",
            "\u001b[1m120/120\u001b[0m \u001b[32m━━━━━━━━━━━━━━━━━━━━\u001b[0m\u001b[37m\u001b[0m \u001b[1m0s\u001b[0m 4ms/step - accuracy: 0.7758 - loss: 0.4449 - val_accuracy: 0.7937 - val_loss: 0.4321\n",
            "Epoch 14/30\n",
            "\u001b[1m120/120\u001b[0m \u001b[32m━━━━━━━━━━━━━━━━━━━━\u001b[0m\u001b[37m\u001b[0m \u001b[1m0s\u001b[0m 3ms/step - accuracy: 0.7789 - loss: 0.4373 - val_accuracy: 0.7312 - val_loss: 0.5032\n",
            "Epoch 15/30\n",
            "\u001b[1m120/120\u001b[0m \u001b[32m━━━━━━━━━━━━━━━━━━━━\u001b[0m\u001b[37m\u001b[0m \u001b[1m0s\u001b[0m 3ms/step - accuracy: 0.7724 - loss: 0.4467 - val_accuracy: 0.7771 - val_loss: 0.4310\n",
            "Epoch 16/30\n",
            "\u001b[1m120/120\u001b[0m \u001b[32m━━━━━━━━━━━━━━━━━━━━\u001b[0m\u001b[37m\u001b[0m \u001b[1m1s\u001b[0m 5ms/step - accuracy: 0.7573 - loss: 0.4431 - val_accuracy: 0.7906 - val_loss: 0.4155\n",
            "Epoch 17/30\n",
            "\u001b[1m120/120\u001b[0m \u001b[32m━━━━━━━━━━━━━━━━━━━━\u001b[0m\u001b[37m\u001b[0m \u001b[1m0s\u001b[0m 3ms/step - accuracy: 0.7617 - loss: 0.4512 - val_accuracy: 0.7979 - val_loss: 0.4049\n",
            "Epoch 18/30\n",
            "\u001b[1m120/120\u001b[0m \u001b[32m━━━━━━━━━━━━━━━━━━━━\u001b[0m\u001b[37m\u001b[0m \u001b[1m0s\u001b[0m 3ms/step - accuracy: 0.7675 - loss: 0.4419 - val_accuracy: 0.8042 - val_loss: 0.4017\n",
            "Epoch 19/30\n",
            "\u001b[1m120/120\u001b[0m \u001b[32m━━━━━━━━━━━━━━━━━━━━\u001b[0m\u001b[37m\u001b[0m \u001b[1m0s\u001b[0m 3ms/step - accuracy: 0.7842 - loss: 0.4283 - val_accuracy: 0.8000 - val_loss: 0.4060\n",
            "Epoch 20/30\n",
            "\u001b[1m120/120\u001b[0m \u001b[32m━━━━━━━━━━━━━━━━━━━━\u001b[0m\u001b[37m\u001b[0m \u001b[1m0s\u001b[0m 3ms/step - accuracy: 0.7856 - loss: 0.4196 - val_accuracy: 0.8156 - val_loss: 0.4000\n",
            "Epoch 21/30\n",
            "\u001b[1m120/120\u001b[0m \u001b[32m━━━━━━━━━━━━━━━━━━━━\u001b[0m\u001b[37m\u001b[0m \u001b[1m1s\u001b[0m 2ms/step - accuracy: 0.7895 - loss: 0.4061 - val_accuracy: 0.8188 - val_loss: 0.4147\n",
            "Epoch 22/30\n",
            "\u001b[1m120/120\u001b[0m \u001b[32m━━━━━━━━━━━━━━━━━━━━\u001b[0m\u001b[37m\u001b[0m \u001b[1m0s\u001b[0m 4ms/step - accuracy: 0.7890 - loss: 0.4268 - val_accuracy: 0.8010 - val_loss: 0.4010\n",
            "Epoch 23/30\n",
            "\u001b[1m120/120\u001b[0m \u001b[32m━━━━━━━━━━━━━━━━━━━━\u001b[0m\u001b[37m\u001b[0m \u001b[1m0s\u001b[0m 3ms/step - accuracy: 0.7709 - loss: 0.4385 - val_accuracy: 0.8052 - val_loss: 0.4067\n",
            "Epoch 24/30\n",
            "\u001b[1m120/120\u001b[0m \u001b[32m━━━━━━━━━━━━━━━━━━━━\u001b[0m\u001b[37m\u001b[0m \u001b[1m0s\u001b[0m 3ms/step - accuracy: 0.7627 - loss: 0.4354 - val_accuracy: 0.7969 - val_loss: 0.4048\n",
            "Epoch 25/30\n",
            "\u001b[1m120/120\u001b[0m \u001b[32m━━━━━━━━━━━━━━━━━━━━\u001b[0m\u001b[37m\u001b[0m \u001b[1m0s\u001b[0m 3ms/step - accuracy: 0.7689 - loss: 0.4424 - val_accuracy: 0.7937 - val_loss: 0.4120\n",
            "Epoch 26/30\n",
            "\u001b[1m120/120\u001b[0m \u001b[32m━━━━━━━━━━━━━━━━━━━━\u001b[0m\u001b[37m\u001b[0m \u001b[1m0s\u001b[0m 2ms/step - accuracy: 0.7998 - loss: 0.4037 - val_accuracy: 0.7823 - val_loss: 0.4059\n",
            "Epoch 27/30\n",
            "\u001b[1m120/120\u001b[0m \u001b[32m━━━━━━━━━━━━━━━━━━━━\u001b[0m\u001b[37m\u001b[0m \u001b[1m0s\u001b[0m 3ms/step - accuracy: 0.7901 - loss: 0.4131 - val_accuracy: 0.7854 - val_loss: 0.4278\n",
            "Epoch 28/30\n",
            "\u001b[1m120/120\u001b[0m \u001b[32m━━━━━━━━━━━━━━━━━━━━\u001b[0m\u001b[37m\u001b[0m \u001b[1m0s\u001b[0m 2ms/step - accuracy: 0.7795 - loss: 0.4268 - val_accuracy: 0.8062 - val_loss: 0.4005\n",
            "Epoch 29/30\n",
            "\u001b[1m120/120\u001b[0m \u001b[32m━━━━━━━━━━━━━━━━━━━━\u001b[0m\u001b[37m\u001b[0m \u001b[1m0s\u001b[0m 2ms/step - accuracy: 0.7855 - loss: 0.4113 - val_accuracy: 0.8073 - val_loss: 0.4072\n",
            "Epoch 30/30\n",
            "\u001b[1m120/120\u001b[0m \u001b[32m━━━━━━━━━━━━━━━━━━━━\u001b[0m\u001b[37m\u001b[0m \u001b[1m0s\u001b[0m 2ms/step - accuracy: 0.7680 - loss: 0.4158 - val_accuracy: 0.7990 - val_loss: 0.4004\n",
            "\u001b[1m38/38\u001b[0m \u001b[32m━━━━━━━━━━━━━━━━━━━━\u001b[0m\u001b[37m\u001b[0m \u001b[1m0s\u001b[0m 3ms/step\n",
            "Accuracy: 0.79\n"
          ]
        }
      ],
      "source": [
        "import tensorflow as tf\n",
        "# Build a neural network using TensorFlow\n",
        "model = tf.keras.Sequential([\n",
        "    tf.keras.layers.Dense(100, activation='relu', input_shape=(x_train.shape[1],)),\n",
        "    tf.keras.layers.Dense(50, activation='relu'),\n",
        "    tf.keras.layers.Dense(25, activation='relu'),\n",
        "    tf.keras.layers.Dense(1, activation='sigmoid')\n",
        "])\n",
        "\n",
        "# Compile the model\n",
        "model.compile(optimizer='adam',\n",
        "              loss='binary_crossentropy',\n",
        "              metrics=['accuracy'])\n",
        "\n",
        "# Train the model\n",
        "model.fit(x_train, y_train_encoded, epochs=30, batch_size=32, validation_split=0.2)\n",
        "\n",
        "# Evaluate the model on the test set\n",
        "y_pred_proba = model.predict(x_test)\n",
        "y_pred = (y_pred_proba > 0.5).astype(int)\n",
        "#y_train_encoded = np.array([label_mapping[label] for label in y_train])\n",
        "#y_test_encoded\n",
        "# Calculate the accuracy\n",
        "accuracy = accuracy_score(y_test_encoded, y_pred)\n",
        "print(f'Accuracy: {accuracy}')"
      ]
    },
    {
      "cell_type": "code",
      "execution_count": 13,
      "metadata": {
        "id": "ZLkdw5vefbLJ"
      },
      "outputs": [],
      "source": [
        "from sklearn.svm import SVC\n",
        "from sklearn.ensemble import RandomForestClassifier\n",
        "from sklearn.linear_model import LogisticRegression\n",
        "# Train a Support Vector Classifier\n",
        "svc_model = SVC()\n",
        "svc_model.fit(x_train, y_train)\n",
        "\n",
        "# Predict with the SVC model\n",
        "y_pred_svc = svc_model.predict(x_test)\n"
      ]
    },
    {
      "cell_type": "code",
      "execution_count": 14,
      "metadata": {
        "id": "0m82r5C2fpXn"
      },
      "outputs": [],
      "source": [
        "rf_model = RandomForestClassifier()\n",
        "rf_model.fit(x_train, y_train)\n",
        "\n",
        "# Predict with the Random Forest model\n",
        "y_pred_rf = rf_model.predict(x_test)"
      ]
    },
    {
      "cell_type": "code",
      "execution_count": 15,
      "metadata": {
        "id": "fU8A4B3QfugF"
      },
      "outputs": [],
      "source": [
        "# Train a Logistic Regression model\n",
        "lr_model = LogisticRegression(max_iter=200)\n",
        "lr_model.fit(x_train, y_train)\n",
        "\n",
        "# Predict with the Logistic Regression model\n",
        "y_pred_lr = lr_model.predict(x_test)"
      ]
    },
    {
      "cell_type": "code",
      "execution_count": 16,
      "metadata": {
        "colab": {
          "base_uri": "https://localhost:8080/"
        },
        "id": "ES1nD-O8f1QJ",
        "outputId": "51d838ed-0622-4ec4-c10c-ac45044c61fb"
      },
      "outputs": [
        {
          "name": "stdout",
          "output_type": "stream",
          "text": [
            "SVC Accuracy: 0.6575\n",
            "SVC Classification Report:\n",
            "               precision    recall  f1-score   support\n",
            "\n",
            "        good       0.62      0.87      0.72       615\n",
            "        poor       0.76      0.43      0.55       585\n",
            "\n",
            "    accuracy                           0.66      1200\n",
            "   macro avg       0.69      0.65      0.64      1200\n",
            "weighted avg       0.69      0.66      0.64      1200\n",
            "\n",
            "Random Forest Accuracy: 0.8158333333333333\n",
            "Random Forest Classification Report:\n",
            "               precision    recall  f1-score   support\n",
            "\n",
            "        good       0.83      0.80      0.82       615\n",
            "        poor       0.80      0.83      0.81       585\n",
            "\n",
            "    accuracy                           0.82      1200\n",
            "   macro avg       0.82      0.82      0.82      1200\n",
            "weighted avg       0.82      0.82      0.82      1200\n",
            "\n",
            "Logistic Regression Accuracy: 0.5416666666666666\n",
            "Logistic Regression Classification Report:\n",
            "               precision    recall  f1-score   support\n",
            "\n",
            "        good       0.56      0.51      0.53       615\n",
            "        poor       0.53      0.57      0.55       585\n",
            "\n",
            "    accuracy                           0.54      1200\n",
            "   macro avg       0.54      0.54      0.54      1200\n",
            "weighted avg       0.54      0.54      0.54      1200\n",
            "\n"
          ]
        }
      ],
      "source": [
        "from sklearn.metrics import accuracy_score, classification_report\n",
        "\n",
        "print(\"SVC Accuracy:\", accuracy_score(y_test, y_pred_svc))\n",
        "print(\"SVC Classification Report:\\n\", classification_report(y_test, y_pred_svc))\n",
        "\n",
        "# Evaluate Random Forest\n",
        "print(\"Random Forest Accuracy:\", accuracy_score(y_test, y_pred_rf))\n",
        "print(\"Random Forest Classification Report:\\n\", classification_report(y_test, y_pred_rf))\n",
        "\n",
        "# Evaluate Logistic Regression\n",
        "print(\"Logistic Regression Accuracy:\", accuracy_score(y_test, y_pred_lr))\n",
        "print(\"Logistic Regression Classification Report:\\n\", classification_report(y_test, y_pred_lr))"
      ]
    }
  ],
  "metadata": {
    "colab": {
      "provenance": []
    },
    "kernelspec": {
      "display_name": "Python 3",
      "name": "python3"
    },
    "language_info": {
      "codemirror_mode": {
        "name": "ipython",
        "version": 3
      },
      "file_extension": ".py",
      "mimetype": "text/x-python",
      "name": "python",
      "nbconvert_exporter": "python",
      "pygments_lexer": "ipython3",
      "version": "3.11.3"
    }
  },
  "nbformat": 4,
  "nbformat_minor": 0
}
